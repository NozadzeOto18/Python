{
 "cells": [
  {
   "cell_type": "code",
   "execution_count": 1,
   "id": "73dea6a2",
   "metadata": {},
   "outputs": [],
   "source": [
    "import pandas as pd\n",
    "from sklearn.model_selection import train_test_split\n",
    "from sklearn.linear_model import LinearRegression\n",
    "from sklearn.tree import DecisionTreeRegressor\n",
    "from sklearn.linear_model import LogisticRegression\n",
    "from sklearn.tree import DecisionTreeClassifier\n",
    "from sklearn.metrics import mean_squared_error, r2_score, accuracy_score, confusion_matrix, classification_report\n",
    "import matplotlib.pyplot as plt"
   ]
  },
  {
   "cell_type": "code",
   "execution_count": 2,
   "id": "a9b6825b",
   "metadata": {},
   "outputs": [
    {
     "data": {
      "text/html": [
       "<div>\n",
       "<style scoped>\n",
       "    .dataframe tbody tr th:only-of-type {\n",
       "        vertical-align: middle;\n",
       "    }\n",
       "\n",
       "    .dataframe tbody tr th {\n",
       "        vertical-align: top;\n",
       "    }\n",
       "\n",
       "    .dataframe thead th {\n",
       "        text-align: right;\n",
       "    }\n",
       "</style>\n",
       "<table border=\"1\" class=\"dataframe\">\n",
       "  <thead>\n",
       "    <tr style=\"text-align: right;\">\n",
       "      <th></th>\n",
       "      <th>index</th>\n",
       "      <th>dateCrawled</th>\n",
       "      <th>name</th>\n",
       "      <th>seller</th>\n",
       "      <th>offerType</th>\n",
       "      <th>price</th>\n",
       "      <th>abtest</th>\n",
       "      <th>vehicleType</th>\n",
       "      <th>yearOfRegistration</th>\n",
       "      <th>gearbox</th>\n",
       "      <th>...</th>\n",
       "      <th>model</th>\n",
       "      <th>kilometer</th>\n",
       "      <th>monthOfRegistration</th>\n",
       "      <th>fuelType</th>\n",
       "      <th>brand</th>\n",
       "      <th>notRepairedDamage</th>\n",
       "      <th>dateCreated</th>\n",
       "      <th>nrOfPictures</th>\n",
       "      <th>postalCode</th>\n",
       "      <th>lastSeen</th>\n",
       "    </tr>\n",
       "  </thead>\n",
       "  <tbody>\n",
       "    <tr>\n",
       "      <th>0</th>\n",
       "      <td>0</td>\n",
       "      <td>2016-03-24 11:52:17</td>\n",
       "      <td>Golf_3_1.6</td>\n",
       "      <td>privat</td>\n",
       "      <td>Angebot</td>\n",
       "      <td>480</td>\n",
       "      <td>test</td>\n",
       "      <td>NaN</td>\n",
       "      <td>1993</td>\n",
       "      <td>manuell</td>\n",
       "      <td>...</td>\n",
       "      <td>golf</td>\n",
       "      <td>150000</td>\n",
       "      <td>0</td>\n",
       "      <td>benzin</td>\n",
       "      <td>volkswagen</td>\n",
       "      <td>NaN</td>\n",
       "      <td>2016-03-24 00:00:00</td>\n",
       "      <td>0</td>\n",
       "      <td>70435</td>\n",
       "      <td>2016-04-07 03:16:57</td>\n",
       "    </tr>\n",
       "    <tr>\n",
       "      <th>1</th>\n",
       "      <td>1</td>\n",
       "      <td>2016-03-24 10:58:45</td>\n",
       "      <td>A5_Sportback_2.7_Tdi</td>\n",
       "      <td>privat</td>\n",
       "      <td>Angebot</td>\n",
       "      <td>18300</td>\n",
       "      <td>test</td>\n",
       "      <td>coupe</td>\n",
       "      <td>2011</td>\n",
       "      <td>manuell</td>\n",
       "      <td>...</td>\n",
       "      <td>NaN</td>\n",
       "      <td>125000</td>\n",
       "      <td>5</td>\n",
       "      <td>diesel</td>\n",
       "      <td>audi</td>\n",
       "      <td>ja</td>\n",
       "      <td>2016-03-24 00:00:00</td>\n",
       "      <td>0</td>\n",
       "      <td>66954</td>\n",
       "      <td>2016-04-07 01:46:50</td>\n",
       "    </tr>\n",
       "    <tr>\n",
       "      <th>2</th>\n",
       "      <td>2</td>\n",
       "      <td>2016-03-14 12:52:21</td>\n",
       "      <td>Jeep_Grand_Cherokee_\"Overland\"</td>\n",
       "      <td>privat</td>\n",
       "      <td>Angebot</td>\n",
       "      <td>9800</td>\n",
       "      <td>test</td>\n",
       "      <td>suv</td>\n",
       "      <td>2004</td>\n",
       "      <td>automatik</td>\n",
       "      <td>...</td>\n",
       "      <td>grand</td>\n",
       "      <td>125000</td>\n",
       "      <td>8</td>\n",
       "      <td>diesel</td>\n",
       "      <td>jeep</td>\n",
       "      <td>NaN</td>\n",
       "      <td>2016-03-14 00:00:00</td>\n",
       "      <td>0</td>\n",
       "      <td>90480</td>\n",
       "      <td>2016-04-05 12:47:46</td>\n",
       "    </tr>\n",
       "    <tr>\n",
       "      <th>3</th>\n",
       "      <td>3</td>\n",
       "      <td>2016-03-17 16:54:04</td>\n",
       "      <td>GOLF_4_1_4__3TÜRER</td>\n",
       "      <td>privat</td>\n",
       "      <td>Angebot</td>\n",
       "      <td>1500</td>\n",
       "      <td>test</td>\n",
       "      <td>kleinwagen</td>\n",
       "      <td>2001</td>\n",
       "      <td>manuell</td>\n",
       "      <td>...</td>\n",
       "      <td>golf</td>\n",
       "      <td>150000</td>\n",
       "      <td>6</td>\n",
       "      <td>benzin</td>\n",
       "      <td>volkswagen</td>\n",
       "      <td>nein</td>\n",
       "      <td>2016-03-17 00:00:00</td>\n",
       "      <td>0</td>\n",
       "      <td>91074</td>\n",
       "      <td>2016-03-17 17:40:17</td>\n",
       "    </tr>\n",
       "    <tr>\n",
       "      <th>4</th>\n",
       "      <td>4</td>\n",
       "      <td>2016-03-31 17:25:20</td>\n",
       "      <td>Skoda_Fabia_1.4_TDI_PD_Classic</td>\n",
       "      <td>privat</td>\n",
       "      <td>Angebot</td>\n",
       "      <td>3600</td>\n",
       "      <td>test</td>\n",
       "      <td>kleinwagen</td>\n",
       "      <td>2008</td>\n",
       "      <td>manuell</td>\n",
       "      <td>...</td>\n",
       "      <td>fabia</td>\n",
       "      <td>90000</td>\n",
       "      <td>7</td>\n",
       "      <td>diesel</td>\n",
       "      <td>skoda</td>\n",
       "      <td>nein</td>\n",
       "      <td>2016-03-31 00:00:00</td>\n",
       "      <td>0</td>\n",
       "      <td>60437</td>\n",
       "      <td>2016-04-06 10:17:21</td>\n",
       "    </tr>\n",
       "  </tbody>\n",
       "</table>\n",
       "<p>5 rows × 21 columns</p>\n",
       "</div>"
      ],
      "text/plain": [
       "   index          dateCrawled                            name  seller  \\\n",
       "0      0  2016-03-24 11:52:17                      Golf_3_1.6  privat   \n",
       "1      1  2016-03-24 10:58:45            A5_Sportback_2.7_Tdi  privat   \n",
       "2      2  2016-03-14 12:52:21  Jeep_Grand_Cherokee_\"Overland\"  privat   \n",
       "3      3  2016-03-17 16:54:04              GOLF_4_1_4__3TÜRER  privat   \n",
       "4      4  2016-03-31 17:25:20  Skoda_Fabia_1.4_TDI_PD_Classic  privat   \n",
       "\n",
       "  offerType  price abtest vehicleType  yearOfRegistration    gearbox  ...  \\\n",
       "0   Angebot    480   test         NaN                1993    manuell  ...   \n",
       "1   Angebot  18300   test       coupe                2011    manuell  ...   \n",
       "2   Angebot   9800   test         suv                2004  automatik  ...   \n",
       "3   Angebot   1500   test  kleinwagen                2001    manuell  ...   \n",
       "4   Angebot   3600   test  kleinwagen                2008    manuell  ...   \n",
       "\n",
       "   model kilometer  monthOfRegistration  fuelType       brand  \\\n",
       "0   golf    150000                    0    benzin  volkswagen   \n",
       "1    NaN    125000                    5    diesel        audi   \n",
       "2  grand    125000                    8    diesel        jeep   \n",
       "3   golf    150000                    6    benzin  volkswagen   \n",
       "4  fabia     90000                    7    diesel       skoda   \n",
       "\n",
       "  notRepairedDamage          dateCreated nrOfPictures  postalCode  \\\n",
       "0               NaN  2016-03-24 00:00:00            0       70435   \n",
       "1                ja  2016-03-24 00:00:00            0       66954   \n",
       "2               NaN  2016-03-14 00:00:00            0       90480   \n",
       "3              nein  2016-03-17 00:00:00            0       91074   \n",
       "4              nein  2016-03-31 00:00:00            0       60437   \n",
       "\n",
       "              lastSeen  \n",
       "0  2016-04-07 03:16:57  \n",
       "1  2016-04-07 01:46:50  \n",
       "2  2016-04-05 12:47:46  \n",
       "3  2016-03-17 17:40:17  \n",
       "4  2016-04-06 10:17:21  \n",
       "\n",
       "[5 rows x 21 columns]"
      ]
     },
     "execution_count": 2,
     "metadata": {},
     "output_type": "execute_result"
    }
   ],
   "source": [
    "df = pd.read_csv(\"autos.csv\")\n",
    "df.head()"
   ]
  },
  {
   "cell_type": "markdown",
   "id": "5a5fb883-7f0d-409b-99be-be7b4bd553c0",
   "metadata": {},
   "source": [
    "# (L12 – 2 ქულა) გამოიყენეთ ერთ ცვლადიანი რეგრესიის მოდელი (Simple linear Regression). გამოთვალეთ \n",
    "მოდელის ეფექტურობა და შეამოწმეთ ახალ მონაცემზე რა შედეგს მოგცემთ."
   ]
  },
  {
   "cell_type": "code",
   "execution_count": 3,
   "id": "50e61858",
   "metadata": {},
   "outputs": [
    {
     "name": "stdout",
     "output_type": "stream",
     "text": [
      "Mean Squared Error: 418884375130.52826\n",
      "R-squared: -0.0018690114330275343\n"
     ]
    },
    {
     "data": {
      "image/png": "[encoded data removed]",
      "text/plain": [
       "<Figure size 640x480 with 1 Axes>"
      ]
     },
     "metadata": {},
     "output_type": "display_data"
    }
   ],
   "source": [
    "# ფუნქციებისა და სამიზნე ცვლადის შერჩევა\n",
    "X = df[['powerPS']]\n",
    "y = df['price']\n",
    "\n",
    "X_train, X_test, y_train, y_test = train_test_split(X, y, test_size=0.2, random_state=42)\n",
    "\n",
    "# ხაზოვანი რეგრესიის მოდელის შექმნა\n",
    "model = LinearRegression()\n",
    "\n",
    "model.fit(X_train, y_train)\n",
    "\n",
    "y_pred = model.predict(X_test)\n",
    "\n",
    "mse = mean_squared_error(y_test, y_pred)\n",
    "r2 = r2_score(y_test, y_pred)\n",
    "\n",
    "print(f'Mean Squared Error: {mse}')\n",
    "print(f'R-squared: {r2}')\n",
    "\n",
    "plt.scatter(X_test, y_test, color='black')\n",
    "plt.plot(X_test, y_pred, color='blue', linewidth=3)\n",
    "plt.title('Simple Linear Regression')\n",
    "plt.xlabel('Power in PS')\n",
    "plt.ylabel('Price')\n",
    "plt.show()"
   ]
  },
  {
   "cell_type": "code",
   "execution_count": 4,
   "id": "54e05688",
   "metadata": {},
   "outputs": [
    {
     "name": "stdout",
     "output_type": "stream",
     "text": [
      "[24192.41332272 31883.80801851 39575.20271431]\n"
     ]
    }
   ],
   "source": [
    "# ვივარაუდოთ, რომ new_data არის DataFrame იგივე სტრუქტურით, როგორც ჩვენი ორიგინალური მონაცემთა ნაკრები\n",
    "new_data = pd.DataFrame({'powerPS': [150, 200, 250]})\n",
    "predicted_prices = model.predict(new_data)\n",
    "\n",
    "print(predicted_prices)"
   ]
  },
  {
   "cell_type": "markdown",
   "id": "440303b3-a79d-4901-a7fb-2f4775951c15",
   "metadata": {},
   "source": [
    "# (L12 – 2 ქულა) გამოიყენეთ მრავალ ცვლადიანი რეგრესიის მოდელი (Multiple linear Regression). გამოთვალეთ \n",
    "მოდელის ეფექტურობა და შეამოწმეთ ახალ მონაცემზე რა შედეგს მოგცემთ."
   ]
  },
  {
   "cell_type": "code",
   "execution_count": 5,
   "id": "a1b82bd1",
   "metadata": {},
   "outputs": [
    {
     "name": "stdout",
     "output_type": "stream",
     "text": [
      "Mean Squared Error: 418873424712.33295\n",
      "R-squared: -0.0018428207099940863\n"
     ]
    },
    {
     "data": {
      "image/png": "[encoded data removed]",
      "text/plain": [
       "<Figure size 640x480 with 1 Axes>"
      ]
     },
     "metadata": {},
     "output_type": "display_data"
    },
    {
     "name": "stdout",
     "output_type": "stream",
     "text": [
      "[25797.30380454 32789.44679337 39563.18980806]\n"
     ]
    }
   ],
   "source": [
    "# ფუნქციებისა და სამიზნე ცვლადის შერჩევა\n",
    "X = df[['powerPS', 'yearOfRegistration', 'kilometer']]\n",
    "y = df['price']\n",
    "\n",
    "X_train, X_test, y_train, y_test = train_test_split(X, y, test_size=0.2, random_state=42)\n",
    "\n",
    "# ხაზოვანი რეგრესიის მოდელის შექმნა\n",
    "model = LinearRegression()\n",
    "\n",
    "model.fit(X_train, y_train)\n",
    "\n",
    "y_pred = model.predict(X_test)\n",
    "\n",
    "mse = mean_squared_error(y_test, y_pred)\n",
    "r2 = r2_score(y_test, y_pred)\n",
    "\n",
    "print(f'Mean Squared Error: {mse}')\n",
    "print(f'R-squared: {r2}')\n",
    "\n",
    "plt.scatter(y_test, y_pred)\n",
    "plt.xlabel(\"Actual Prices\")\n",
    "plt.ylabel(\"Predicted Prices\")\n",
    "plt.title(\"Actual Prices vs Predicted Prices\")\n",
    "plt.show()\n",
    "\n",
    "# შემოწმება მოდელის ახალ მონაცემებზე\n",
    "new_data = pd.DataFrame({\n",
    "    'powerPS': [150, 200, 250],\n",
    "    'yearOfRegistration': [2010, 2015, 2020],\n",
    "    'kilometer': [50000, 80000, 120000]\n",
    "})\n",
    "\n",
    "predicted_prices = model.predict(new_data)\n",
    "\n",
    "print(predicted_prices)"
   ]
  },
  {
   "cell_type": "markdown",
   "id": "b912a53e-9bd9-4765-bdb6-a0d68614d9b3",
   "metadata": {},
   "source": [
    "# (L13 – 3 ქულა) გამოიყენეთ გადაწყვეტილების ხის რეგრესიის მოდელი ერთ ცვლადზე ან რამდენიმე ცვლადზე დამოკიდებულებით. გამოთვალეთ მოდელის ეფექტურობა და შეამოწმეთ ახალ მონაცემზე რა შედეგს მოგცემთ."
   ]
  },
  {
   "cell_type": "code",
   "execution_count": 5,
   "id": "42428591",
   "metadata": {},
   "outputs": [
    {
     "name": "stdout",
     "output_type": "stream",
     "text": [
      "Mean Squared Error: 435417458643.1543\n",
      "R-squared: -0.04141210498855319\n"
     ]
    },
    {
     "data": {
      "image/png": "[encoded data removed]",
      "text/plain": [
       "<Figure size 640x480 with 1 Axes>"
      ]
     },
     "metadata": {},
     "output_type": "display_data"
    },
    {
     "name": "stdout",
     "output_type": "stream",
     "text": [
      "Predicted Prices on New Data: [12683.33333333 24500.         11500.        ]\n"
     ]
    }
   ],
   "source": [
    "X = df[['powerPS', 'yearOfRegistration', 'kilometer']]\n",
    "y = df['price']\n",
    "\n",
    "X_train, X_test, y_train, y_test = train_test_split(X, y, test_size=0.2, random_state=42)\n",
    "\n",
    "model = DecisionTreeRegressor(random_state=42)\n",
    "\n",
    "model.fit(X_train, y_train)\n",
    "\n",
    "y_pred = model.predict(X_test)\n",
    "\n",
    "mse = mean_squared_error(y_test, y_pred)\n",
    "r2 = r2_score(y_test, y_pred)\n",
    "\n",
    "print(f'Mean Squared Error: {mse}')\n",
    "print(f'R-squared: {r2}')\n",
    "\n",
    "plt.scatter(y_test, y_pred)\n",
    "plt.xlabel(\"Actual Prices\")\n",
    "plt.ylabel(\"Predicted Prices\")\n",
    "plt.title(\"Actual Prices vs Predicted Prices (Decision Tree Regression)\")\n",
    "plt.show()\n",
    "\n",
    "new_data = pd.DataFrame({\n",
    "    'powerPS': [150, 200, 250],\n",
    "    'yearOfRegistration': [2010, 2015, 2020],\n",
    "    'kilometer': [50000, 80000, 120000]\n",
    "})\n",
    "\n",
    "predicted_prices = model.predict(new_data)\n",
    "\n",
    "print(\"Predicted Prices on New Data:\", predicted_prices)"
   ]
  },
  {
   "cell_type": "markdown",
   "id": "e8f1e344-5b1e-4875-9d90-dc1fc50fa2c6",
   "metadata": {},
   "source": [
    "# (L14 – 3 ქულა) გამოიყენეთ ლოგისტიკური რეგრესიის მოდელი. გამოთვალეთ მოდელის ეფექტურობა და \n",
    "შეამოწმეთ ახალ მონაცემზე რა შედეგს მოგცემთ."
   ]
  },
  {
   "cell_type": "code",
   "execution_count": 6,
   "id": "ec9c2e5b",
   "metadata": {},
   "outputs": [
    {
     "name": "stdout",
     "output_type": "stream",
     "text": [
      "Accuracy: 0.7621457217452158\n",
      "Confusion Matrix:\n",
      " [[29326  7846]\n",
      " [ 9828 27306]]\n",
      "Classification Report:\n",
      "               precision    recall  f1-score   support\n",
      "\n",
      "           0       0.75      0.79      0.77     37172\n",
      "           1       0.78      0.74      0.76     37134\n",
      "\n",
      "    accuracy                           0.76     74306\n",
      "   macro avg       0.76      0.76      0.76     74306\n",
      "weighted avg       0.76      0.76      0.76     74306\n",
      "\n",
      "Predicted Probabilities on New Data:\n",
      " [0.89779246 0.91387734 0.91306463]\n"
     ]
    }
   ],
   "source": [
    "# ვივარაუდოთ, რომ 'isExpensive' არის ორობითი სამიზნე ცვლადი (1 თუ ძვირია, 0 თუ არა)\n",
    "df['isExpensive'] = (df['price'] > df['price'].median()).astype(int)\n",
    "\n",
    "# მახასიათებლებისა და ორობითი სამიზნე ცვლადის არჩევა\n",
    "X = df[['powerPS', 'yearOfRegistration', 'kilometer']]\n",
    "y = df['isExpensive']\n",
    "\n",
    "# დაყოფა მონაცემების სასწავლო და ტესტირების ნაკრებებად\n",
    "X_train, X_test, y_train, y_test = train_test_split(X, y, test_size=0.2, random_state=42)\n",
    "\n",
    "# შექმნა ლოგისტიკური რეგრესიის მოდელის\n",
    "model = LogisticRegression(random_state=42)\n",
    "\n",
    "# მოდელის მომზადება სავარჯიშო კომპლექტზე\n",
    "model.fit(X_train, y_train)\n",
    "\n",
    "# პროგნოზების გაკეთება ტესტის კომპლექტზე\n",
    "y_pred = model.predict(X_test)\n",
    "\n",
    "# მოდელის შეფასება\n",
    "accuracy = accuracy_score(y_test, y_pred)\n",
    "conf_matrix = confusion_matrix(y_test, y_pred)\n",
    "classification_rep = classification_report(y_test, y_pred)\n",
    "\n",
    "print(f'Accuracy: {accuracy}')\n",
    "print('Confusion Matrix:\\n', conf_matrix)\n",
    "print('Classification Report:\\n', classification_rep)\n",
    "\n",
    "# მოდელის შემოწმება ახალ მონაცემებზე\n",
    "new_data = pd.DataFrame({\n",
    "    'powerPS': [150, 200, 250],\n",
    "    'yearOfRegistration': [2010, 2015, 2020],\n",
    "    'kilometer': [50000, 80000, 120000]\n",
    "})\n",
    "\n",
    "predicted_probabilities = model.predict_proba(new_data)[:, 1]  # ალბათობა 1 კლასისთვის\n",
    "\n",
    "print(\"Predicted Probabilities on New Data:\\n\", predicted_probabilities)"
   ]
  },
  {
   "cell_type": "markdown",
   "id": "200966ca-05e8-4c4b-bc49-140d4653a816",
   "metadata": {},
   "source": [
    "# (L13 – 4 ქულა) გამოიყენეთ გადაწყვეტილების ხის კლასიფიკაციის მოდელი ერთ ცვლადზე ან რამდენიმე \n",
    "ცვლადზე დამოკიდებულებით. გამოთვალეთ მოდელის ეფექტურობა და შეამოწმეთ ახალ მონაცემზე რ \r\n",
    "შედეგს მოგცემთ."
   ]
  },
  {
   "cell_type": "code",
   "execution_count": 7,
   "id": "dc5633bb",
   "metadata": {},
   "outputs": [
    {
     "name": "stdout",
     "output_type": "stream",
     "text": [
      "Accuracy: 0.7476112292412457\n",
      "Confusion Matrix:\n",
      " [[27428  9744]\n",
      " [ 9010 28124]]\n",
      "Classification Report:\n",
      "               precision    recall  f1-score   support\n",
      "\n",
      "           0       0.75      0.74      0.75     37172\n",
      "           1       0.74      0.76      0.75     37134\n",
      "\n",
      "    accuracy                           0.75     74306\n",
      "   macro avg       0.75      0.75      0.75     74306\n",
      "weighted avg       0.75      0.75      0.75     74306\n",
      "\n",
      "Predicted Classes on New Data:\n",
      " [1 1 1]\n"
     ]
    }
   ],
   "source": [
    "# ვივარაუდოთ, რომ 'isExpensive' არის ორობითი სამიზნე ცვლადი (1 თუ ძვირია, 0 თუ არა)\n",
    "df['isExpensive'] = (df['price'] > df['price'].median()).astype(int)\n",
    "\n",
    "# მახასიათებლებისა და ორობითი სამიზნე ცვლადის არჩევა\n",
    "X = df[['powerPS']]\n",
    "y = df['isExpensive']\n",
    "\n",
    "# დაყოფა მონაცემების სასწავლო და ტესტირების ნაკრებებად\n",
    "X_train, X_test, y_train, y_test = train_test_split(X, y, test_size=0.2, random_state=42)\n",
    "\n",
    "# შექმნა გადაწყვეტილების ხის კლასიფიკაციის მოდელი\n",
    "model = DecisionTreeClassifier(random_state=42)\n",
    "\n",
    "# მოდელის მომზადება სავარჯიშო კომპლექტზე\n",
    "model.fit(X_train, y_train)\n",
    "\n",
    "# პროგნოზების გაკეთება ტესტის კომპლექტზე\n",
    "y_pred = model.predict(X_test)\n",
    "\n",
    "# მოდელის შეფასება\n",
    "accuracy = accuracy_score(y_test, y_pred)\n",
    "conf_matrix = confusion_matrix(y_test, y_pred)\n",
    "classification_rep = classification_report(y_test, y_pred)\n",
    "\n",
    "print(f'Accuracy: {accuracy}')\n",
    "print('Confusion Matrix:\\n', conf_matrix)\n",
    "print('Classification Report:\\n', classification_rep)\n",
    "\n",
    "# მოდელის შემოწმება ახალ მონაცემებზე\n",
    "new_data = pd.DataFrame({'powerPS': [150, 200, 250]})\n",
    "\n",
    "predicted_classes = model.predict(new_data)\n",
    "\n",
    "print(\"Predicted Classes on New Data:\\n\", predicted_classes)"
   ]
  }
 ],
 "metadata": {
  "kernelspec": {
   "display_name": "Python 3 (ipykernel)",
   "language": "python",
   "name": "python3"
  },
  "language_info": {
   "codemirror_mode": {
    "name": "ipython",
    "version": 3
   },
   "file_extension": ".py",
   "mimetype": "text/x-python",
   "name": "python",
   "nbconvert_exporter": "python",
   "pygments_lexer": "ipython3",
   "version": "3.9.13"
  }
 },
 "nbformat": 4,
 "nbformat_minor": 5
}
